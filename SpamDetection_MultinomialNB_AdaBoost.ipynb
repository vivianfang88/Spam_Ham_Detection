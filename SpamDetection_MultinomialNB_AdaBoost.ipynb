{
 "cells": [
  {
   "cell_type": "code",
   "execution_count": 1,
   "metadata": {
    "ExecuteTime": {
     "end_time": "2022-03-21T10:10:16.864148Z",
     "start_time": "2022-03-21T10:10:16.843880Z"
    }
   },
   "outputs": [],
   "source": [
    "import pandas as pd\n",
    "\n",
    "from nltk.corpus import stopwords\n",
    "import string\n",
    "from nltk.stem import WordNetLemmatizer\n",
    "from nltk.tokenize import word_tokenize\n",
    "\n",
    "from sklearn.model_selection import train_test_split\n",
    "from sklearn.feature_extraction.text import TfidfVectorizer\n",
    "from sklearn.ensemble import AdaBoostClassifier\n",
    "from sklearn.naive_bayes import MultinomialNB\n",
    "from sklearn.metrics import classification_report\n",
    "\n",
    "\n"
   ]
  },
  {
   "cell_type": "code",
   "execution_count": 2,
   "metadata": {
    "ExecuteTime": {
     "end_time": "2022-03-21T10:12:19.695278Z",
     "start_time": "2022-03-21T10:12:19.560692Z"
    }
   },
   "outputs": [
    {
     "data": {
      "text/html": [
       "<div>\n",
       "<style scoped>\n",
       "    .dataframe tbody tr th:only-of-type {\n",
       "        vertical-align: middle;\n",
       "    }\n",
       "\n",
       "    .dataframe tbody tr th {\n",
       "        vertical-align: top;\n",
       "    }\n",
       "\n",
       "    .dataframe thead th {\n",
       "        text-align: right;\n",
       "    }\n",
       "</style>\n",
       "<table border=\"1\" class=\"dataframe\">\n",
       "  <thead>\n",
       "    <tr style=\"text-align: right;\">\n",
       "      <th></th>\n",
       "      <th>subject</th>\n",
       "      <th>message</th>\n",
       "      <th>label</th>\n",
       "    </tr>\n",
       "  </thead>\n",
       "  <tbody>\n",
       "    <tr>\n",
       "      <th>0</th>\n",
       "      <td>job posting - apple-iss research center</td>\n",
       "      <td>content - length : 3386 apple-iss research cen...</td>\n",
       "      <td>0</td>\n",
       "    </tr>\n",
       "    <tr>\n",
       "      <th>1</th>\n",
       "      <td>NaN</td>\n",
       "      <td>lang classification grimes , joseph e . and ba...</td>\n",
       "      <td>0</td>\n",
       "    </tr>\n",
       "    <tr>\n",
       "      <th>2</th>\n",
       "      <td>query : letter frequencies for text identifica...</td>\n",
       "      <td>i am posting this inquiry for sergei atamas ( ...</td>\n",
       "      <td>0</td>\n",
       "    </tr>\n",
       "    <tr>\n",
       "      <th>3</th>\n",
       "      <td>risk</td>\n",
       "      <td>a colleague and i are researching the differin...</td>\n",
       "      <td>0</td>\n",
       "    </tr>\n",
       "    <tr>\n",
       "      <th>4</th>\n",
       "      <td>request book information</td>\n",
       "      <td>earlier this morning i was on the phone with a...</td>\n",
       "      <td>0</td>\n",
       "    </tr>\n",
       "  </tbody>\n",
       "</table>\n",
       "</div>"
      ],
      "text/plain": [
       "                                             subject  \\\n",
       "0            job posting - apple-iss research center   \n",
       "1                                                NaN   \n",
       "2  query : letter frequencies for text identifica...   \n",
       "3                                               risk   \n",
       "4                           request book information   \n",
       "\n",
       "                                             message  label  \n",
       "0  content - length : 3386 apple-iss research cen...      0  \n",
       "1  lang classification grimes , joseph e . and ba...      0  \n",
       "2  i am posting this inquiry for sergei atamas ( ...      0  \n",
       "3  a colleague and i are researching the differin...      0  \n",
       "4  earlier this morning i was on the phone with a...      0  "
      ]
     },
     "execution_count": 2,
     "metadata": {},
     "output_type": "execute_result"
    }
   ],
   "source": [
    "data = pd.read_csv('messages.csv')\n",
    "data.head()"
   ]
  },
  {
   "cell_type": "markdown",
   "metadata": {},
   "source": [
    "### Preprocess Data"
   ]
  },
  {
   "cell_type": "code",
   "execution_count": 3,
   "metadata": {},
   "outputs": [
    {
     "data": {
      "text/plain": [
       "188"
      ]
     },
     "execution_count": 3,
     "metadata": {},
     "output_type": "execute_result"
    }
   ],
   "source": [
    "add_stopwords = set(stopwords.words('english') + ['u', 'ü', 'ur', '4', '2', 'im', 'dont', 'doin', 'ure'])\n",
    "len(add_stopwords) "
   ]
  },
  {
   "cell_type": "code",
   "execution_count": 4,
   "metadata": {},
   "outputs": [],
   "source": [
    "def clean_text(x):\n",
    "    global after_clean\n",
    "    after_clean = []\n",
    "    no_punc = \"\".join([char for char in x if char not in string.punctuation])\n",
    "    no_stopwords = [word for word in no_punc.lower().split() if word not in add_stopwords]\n",
    "    # print(no_stopwords)\n",
    "    after_clean = \" \".join(no_stopwords)\n",
    "\n",
    "\n",
    "    return after_clean\n",
    "\n",
    "\n",
    "\n",
    "def lemmatize(sentence):\n",
    "    result = []\n",
    "    clean_text(sentence)\n",
    "\n",
    "    lemma_process = [WordNetLemmatizer().lemmatize(word) for word in after_clean]\n",
    "    result = \"\".join(lemma_process)\n",
    "\n",
    "    return result\n",
    "\n",
    "\n"
   ]
  },
  {
   "cell_type": "code",
   "execution_count": 5,
   "metadata": {},
   "outputs": [
    {
     "data": {
      "text/html": [
       "<div>\n",
       "<style scoped>\n",
       "    .dataframe tbody tr th:only-of-type {\n",
       "        vertical-align: middle;\n",
       "    }\n",
       "\n",
       "    .dataframe tbody tr th {\n",
       "        vertical-align: top;\n",
       "    }\n",
       "\n",
       "    .dataframe thead th {\n",
       "        text-align: right;\n",
       "    }\n",
       "</style>\n",
       "<table border=\"1\" class=\"dataframe\">\n",
       "  <thead>\n",
       "    <tr style=\"text-align: right;\">\n",
       "      <th></th>\n",
       "      <th>subject</th>\n",
       "      <th>message</th>\n",
       "      <th>label</th>\n",
       "      <th>clean_text</th>\n",
       "    </tr>\n",
       "  </thead>\n",
       "  <tbody>\n",
       "    <tr>\n",
       "      <th>0</th>\n",
       "      <td>job posting - apple-iss research center</td>\n",
       "      <td>content - length : 3386 apple-iss research cen...</td>\n",
       "      <td>0</td>\n",
       "      <td>content length 3386 appleiss research center u...</td>\n",
       "    </tr>\n",
       "    <tr>\n",
       "      <th>1</th>\n",
       "      <td>NaN</td>\n",
       "      <td>lang classification grimes , joseph e . and ba...</td>\n",
       "      <td>0</td>\n",
       "      <td>lang classification grimes joseph e barbara f ...</td>\n",
       "    </tr>\n",
       "    <tr>\n",
       "      <th>2</th>\n",
       "      <td>query : letter frequencies for text identifica...</td>\n",
       "      <td>i am posting this inquiry for sergei atamas ( ...</td>\n",
       "      <td>0</td>\n",
       "      <td>posting inquiry sergei atamas satamas umabnet ...</td>\n",
       "    </tr>\n",
       "    <tr>\n",
       "      <th>3</th>\n",
       "      <td>risk</td>\n",
       "      <td>a colleague and i are researching the differin...</td>\n",
       "      <td>0</td>\n",
       "      <td>colleague researching differing degrees risk p...</td>\n",
       "    </tr>\n",
       "    <tr>\n",
       "      <th>4</th>\n",
       "      <td>request book information</td>\n",
       "      <td>earlier this morning i was on the phone with a...</td>\n",
       "      <td>0</td>\n",
       "      <td>earlier morning phone friend mine living south...</td>\n",
       "    </tr>\n",
       "  </tbody>\n",
       "</table>\n",
       "</div>"
      ],
      "text/plain": [
       "                                             subject  \\\n",
       "0            job posting - apple-iss research center   \n",
       "1                                                NaN   \n",
       "2  query : letter frequencies for text identifica...   \n",
       "3                                               risk   \n",
       "4                           request book information   \n",
       "\n",
       "                                             message  label  \\\n",
       "0  content - length : 3386 apple-iss research cen...      0   \n",
       "1  lang classification grimes , joseph e . and ba...      0   \n",
       "2  i am posting this inquiry for sergei atamas ( ...      0   \n",
       "3  a colleague and i are researching the differin...      0   \n",
       "4  earlier this morning i was on the phone with a...      0   \n",
       "\n",
       "                                          clean_text  \n",
       "0  content length 3386 appleiss research center u...  \n",
       "1  lang classification grimes joseph e barbara f ...  \n",
       "2  posting inquiry sergei atamas satamas umabnet ...  \n",
       "3  colleague researching differing degrees risk p...  \n",
       "4  earlier morning phone friend mine living south...  "
      ]
     },
     "execution_count": 5,
     "metadata": {},
     "output_type": "execute_result"
    }
   ],
   "source": [
    "data['clean_text'] =data['message'].apply(lambda a :lemmatize(a))\n",
    "data.head()"
   ]
  },
  {
   "cell_type": "markdown",
   "metadata": {},
   "source": [
    "### TF-IDF"
   ]
  },
  {
   "cell_type": "code",
   "execution_count": 6,
   "metadata": {},
   "outputs": [
    {
     "data": {
      "text/plain": [
       "<2893x64629 sparse matrix of type '<class 'numpy.float64'>'\n",
       "\twith 532093 stored elements in Compressed Sparse Row format>"
      ]
     },
     "execution_count": 6,
     "metadata": {},
     "output_type": "execute_result"
    }
   ],
   "source": [
    "tf_vec = TfidfVectorizer(use_idf=True)\n",
    "features = tf_vec.fit_transform(data['clean_text'])\n",
    "features"
   ]
  },
  {
   "cell_type": "code",
   "execution_count": 7,
   "metadata": {},
   "outputs": [
    {
     "name": "stdout",
     "output_type": "stream",
     "text": [
      "                  TF-IDF\n",
      "unix            0.227849\n",
      "experience      0.211178\n",
      "singapore       0.209923\n",
      "apple           0.187985\n",
      "productization  0.175052\n",
      "knowledge       0.171319\n",
      "expertise       0.169171\n",
      "speech          0.161337\n",
      "iss             0.155673\n",
      "programmer      0.151817\n",
      "required        0.146049\n",
      "language        0.128035\n",
      "models          0.123766\n",
      "research        0.119354\n",
      "center          0.117619\n",
      "candidate       0.106558\n",
      "modeling        0.105349\n",
      "industry        0.103121\n",
      "65              0.099561\n",
      "statistical     0.098402\n",
      "years           0.098108\n",
      "located         0.097037\n",
      "positions       0.094546\n",
      "engineering     0.093181\n",
      "strong          0.092962\n"
     ]
    }
   ],
   "source": [
    "# identify important words\n",
    "words_df = pd.DataFrame(features[0].T.todense(), index=tf_vec.get_feature_names(), columns=[\"TF-IDF\"])\n",
    "words_df = words_df.sort_values('TF-IDF', ascending=False)\n",
    "print (words_df.head(25))"
   ]
  },
  {
   "cell_type": "markdown",
   "metadata": {},
   "source": [
    "### Modelling"
   ]
  },
  {
   "cell_type": "code",
   "execution_count": 8,
   "metadata": {},
   "outputs": [
    {
     "name": "stdout",
     "output_type": "stream",
     "text": [
      "(2169, 64629) (2893, 64629)\n"
     ]
    }
   ],
   "source": [
    "y= data['label']\n",
    "xtrain,xtest,ytrain,ytest = train_test_split(features,y, random_state=42)\n",
    "print(xtrain.shape, features.shape)"
   ]
  },
  {
   "cell_type": "code",
   "execution_count": 9,
   "metadata": {},
   "outputs": [
    {
     "name": "stdout",
     "output_type": "stream",
     "text": [
      "              precision    recall  f1-score   support\n",
      "\n",
      "           0       1.00      0.83      0.91       705\n",
      "           1       0.14      1.00      0.24        19\n",
      "\n",
      "    accuracy                           0.83       724\n",
      "   macro avg       0.57      0.91      0.57       724\n",
      "weighted avg       0.98      0.83      0.89       724\n",
      "\n"
     ]
    }
   ],
   "source": [
    "naive_model = MultinomialNB()\n",
    "naive_model.fit(xtrain,ytrain)\n",
    "naive_pred = naive_model.predict(xtest)\n",
    "\n",
    "\n",
    "naive_result = classification_report(naive_pred, ytest)\n",
    "print(naive_result)"
   ]
  },
  {
   "cell_type": "code",
   "execution_count": 10,
   "metadata": {},
   "outputs": [
    {
     "name": "stdout",
     "output_type": "stream",
     "text": [
      "              precision    recall  f1-score   support\n",
      "\n",
      "           0       0.99      0.99      0.99       588\n",
      "           1       0.95      0.97      0.96       136\n",
      "\n",
      "    accuracy                           0.98       724\n",
      "   macro avg       0.97      0.98      0.98       724\n",
      "weighted avg       0.98      0.98      0.98       724\n",
      "\n"
     ]
    }
   ],
   "source": [
    "AdaBoost_model = AdaBoostClassifier()\n",
    "AdaBoost_model.fit(xtrain,ytrain)\n",
    "AdaBoost_pred = AdaBoost_model.predict(xtest)\n",
    "\n",
    "AdaBoost_result = classification_report(AdaBoost_pred,ytest)\n",
    "print(AdaBoost_result)"
   ]
  },
  {
   "cell_type": "code",
   "execution_count": null,
   "metadata": {},
   "outputs": [],
   "source": []
  }
 ],
 "metadata": {
  "interpreter": {
   "hash": "2db524e06e9f5f4ffedc911c917cb75e12dbc923643829bf417064a77eb14d37"
  },
  "kernelspec": {
   "display_name": "Python 3 (ipykernel)",
   "language": "python",
   "name": "python3"
  },
  "language_info": {
   "codemirror_mode": {
    "name": "ipython",
    "version": 3
   },
   "file_extension": ".py",
   "mimetype": "text/x-python",
   "name": "python",
   "nbconvert_exporter": "python",
   "pygments_lexer": "ipython3",
   "version": "3.9.7"
  }
 },
 "nbformat": 4,
 "nbformat_minor": 2
}
